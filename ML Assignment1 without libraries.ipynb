{
 "cells": [
  {
   "cell_type": "code",
   "execution_count": 16,
   "id": "60066e06",
   "metadata": {},
   "outputs": [],
   "source": [
    "import pandas as pd\n",
    "import matplotlib.pyplot as plt\n",
    "import numpy as np\n"
   ]
  },
  {
   "cell_type": "code",
   "execution_count": 2,
   "id": "37800170",
   "metadata": {},
   "outputs": [],
   "source": [
    "data = pd.read_csv(\"regression_data.csv\")"
   ]
  },
  {
   "cell_type": "code",
   "execution_count": 3,
   "id": "abee0003",
   "metadata": {},
   "outputs": [
    {
     "data": {
      "text/html": [
       "<div>\n",
       "<style scoped>\n",
       "    .dataframe tbody tr th:only-of-type {\n",
       "        vertical-align: middle;\n",
       "    }\n",
       "\n",
       "    .dataframe tbody tr th {\n",
       "        vertical-align: top;\n",
       "    }\n",
       "\n",
       "    .dataframe thead th {\n",
       "        text-align: right;\n",
       "    }\n",
       "</style>\n",
       "<table border=\"1\" class=\"dataframe\">\n",
       "  <thead>\n",
       "    <tr style=\"text-align: right;\">\n",
       "      <th></th>\n",
       "      <th>No. of hours spent on driving</th>\n",
       "      <th>Risk score on a scale of 0-100</th>\n",
       "    </tr>\n",
       "  </thead>\n",
       "  <tbody>\n",
       "    <tr>\n",
       "      <th>0</th>\n",
       "      <td>10</td>\n",
       "      <td>95</td>\n",
       "    </tr>\n",
       "    <tr>\n",
       "      <th>1</th>\n",
       "      <td>9</td>\n",
       "      <td>80</td>\n",
       "    </tr>\n",
       "    <tr>\n",
       "      <th>2</th>\n",
       "      <td>2</td>\n",
       "      <td>10</td>\n",
       "    </tr>\n",
       "    <tr>\n",
       "      <th>3</th>\n",
       "      <td>15</td>\n",
       "      <td>50</td>\n",
       "    </tr>\n",
       "    <tr>\n",
       "      <th>4</th>\n",
       "      <td>10</td>\n",
       "      <td>45</td>\n",
       "    </tr>\n",
       "    <tr>\n",
       "      <th>5</th>\n",
       "      <td>16</td>\n",
       "      <td>98</td>\n",
       "    </tr>\n",
       "    <tr>\n",
       "      <th>6</th>\n",
       "      <td>11</td>\n",
       "      <td>38</td>\n",
       "    </tr>\n",
       "    <tr>\n",
       "      <th>7</th>\n",
       "      <td>16</td>\n",
       "      <td>93</td>\n",
       "    </tr>\n",
       "  </tbody>\n",
       "</table>\n",
       "</div>"
      ],
      "text/plain": [
       "   No. of hours spent on driving  Risk score on a scale of 0-100\n",
       "0                             10                              95\n",
       "1                              9                              80\n",
       "2                              2                              10\n",
       "3                             15                              50\n",
       "4                             10                              45\n",
       "5                             16                              98\n",
       "6                             11                              38\n",
       "7                             16                              93"
      ]
     },
     "execution_count": 3,
     "metadata": {},
     "output_type": "execute_result"
    }
   ],
   "source": [
    "data"
   ]
  },
  {
   "cell_type": "code",
   "execution_count": 4,
   "id": "8e70ba8c",
   "metadata": {},
   "outputs": [],
   "source": [
    "X = data.iloc[:,:-1].values\n",
    "y = data.iloc[:,-1].values"
   ]
  },
  {
   "cell_type": "code",
   "execution_count": 5,
   "id": "04cbcc28",
   "metadata": {},
   "outputs": [
    {
     "data": {
      "text/plain": [
       "array([[10],\n",
       "       [ 9],\n",
       "       [ 2],\n",
       "       [15],\n",
       "       [10],\n",
       "       [16],\n",
       "       [11],\n",
       "       [16]], dtype=int64)"
      ]
     },
     "execution_count": 5,
     "metadata": {},
     "output_type": "execute_result"
    }
   ],
   "source": [
    "X"
   ]
  },
  {
   "cell_type": "code",
   "execution_count": 15,
   "id": "ef4788f8",
   "metadata": {},
   "outputs": [
    {
     "data": {
      "text/plain": [
       "array([95, 80, 10, 50, 45, 98, 38, 93], dtype=int64)"
      ]
     },
     "execution_count": 15,
     "metadata": {},
     "output_type": "execute_result"
    }
   ],
   "source": [
    "y"
   ]
  },
  {
   "cell_type": "code",
   "execution_count": 17,
   "id": "f4982132",
   "metadata": {},
   "outputs": [],
   "source": [
    "def mean(values):\n",
    "    total=0\n",
    "    \n",
    "    for x in values:\n",
    "        total+=x\n",
    "        \n",
    "    avg = total/len(values)\n",
    "    \n",
    "    return avg"
   ]
  },
  {
   "cell_type": "code",
   "execution_count": 21,
   "id": "6328ddee",
   "metadata": {},
   "outputs": [
    {
     "name": "stdout",
     "output_type": "stream",
     "text": [
      "89\n"
     ]
    }
   ],
   "source": [
    "sum_x = sum(X)[0]\n",
    "print(sum_x)"
   ]
  },
  {
   "cell_type": "code",
   "execution_count": 23,
   "id": "2ca44c0e",
   "metadata": {},
   "outputs": [
    {
     "name": "stdout",
     "output_type": "stream",
     "text": [
      "509\n"
     ]
    }
   ],
   "source": [
    "sum_y = sum(y)\n",
    "print(sum_y)"
   ]
  },
  {
   "cell_type": "code",
   "execution_count": 25,
   "id": "868b7db6",
   "metadata": {},
   "outputs": [
    {
     "name": "stdout",
     "output_type": "stream",
     "text": [
      "11.125\n"
     ]
    }
   ],
   "source": [
    "mean_x = mean(X)[0]\n",
    "print(mean_x)"
   ]
  },
  {
   "cell_type": "code",
   "execution_count": 26,
   "id": "29ddd8d5",
   "metadata": {},
   "outputs": [
    {
     "name": "stdout",
     "output_type": "stream",
     "text": [
      "63.625\n"
     ]
    }
   ],
   "source": [
    "mean_y = mean(y)\n",
    "print(mean_y)"
   ]
  },
  {
   "cell_type": "code",
   "execution_count": 28,
   "id": "0be7ae69",
   "metadata": {},
   "outputs": [
    {
     "name": "stdout",
     "output_type": "stream",
     "text": [
      "4.58789860997547\n"
     ]
    }
   ],
   "source": [
    "summ=0\n",
    "denom=0\n",
    "for i in range(0,len(X)):\n",
    "    summ+= (X[i][0] - mean_x) * (y[i] - mean_y)\n",
    "    denom+= (X[i][0]-mean_x)**2\n",
    "    \n",
    "slope = summ/denom\n",
    "\n",
    "print(slope)"
   ]
  },
  {
   "cell_type": "code",
   "execution_count": 30,
   "id": "42190c7f",
   "metadata": {},
   "outputs": [
    {
     "name": "stdout",
     "output_type": "stream",
     "text": [
      "12.584627964022893\n"
     ]
    }
   ],
   "source": [
    "c = mean_y - (slope*mean_x)\n",
    "print(c)"
   ]
  },
  {
   "cell_type": "code",
   "execution_count": 32,
   "id": "b81bb942",
   "metadata": {},
   "outputs": [],
   "source": [
    "min_x = min(X)[0]\n",
    "max_x = max(X)[0]"
   ]
  },
  {
   "cell_type": "code",
   "execution_count": 33,
   "id": "fe391edf",
   "metadata": {},
   "outputs": [],
   "source": [
    "x = np.linspace(min_x,max_x,10)"
   ]
  },
  {
   "cell_type": "code",
   "execution_count": 35,
   "id": "09bc98d8",
   "metadata": {},
   "outputs": [
    {
     "data": {
      "text/plain": [
       "[<matplotlib.lines.Line2D at 0x20a80ebb5e0>]"
      ]
     },
     "execution_count": 35,
     "metadata": {},
     "output_type": "execute_result"
    },
    {
     "data": {
      "image/png": "[encoded data removed]",
      "text/plain": [
       "<Figure size 432x288 with 1 Axes>"
      ]
     },
     "metadata": {
      "needs_background": "light"
     },
     "output_type": "display_data"
    }
   ],
   "source": [
    "eqn = slope*x + c\n",
    "plt.scatter(X,y,color='blue')\n",
    "plt.plot(x,eqn,color='red')"
   ]
  },
  {
   "cell_type": "code",
   "execution_count": 36,
   "id": "91816ff2",
   "metadata": {},
   "outputs": [
    {
     "name": "stdout",
     "output_type": "stream",
     "text": [
      "58.46361406377759\n"
     ]
    }
   ],
   "source": [
    "prediction = slope*10 + c\n",
    "print(prediction)"
   ]
  },
  {
   "cell_type": "code",
   "execution_count": null,
   "id": "ec705ccb",
   "metadata": {},
   "outputs": [],
   "source": []
  }
 ],
 "metadata": {
  "kernelspec": {
   "display_name": "Python [conda env:root] *",
   "language": "python",
   "name": "conda-root-py"
  },
  "language_info": {
   "codemirror_mode": {
    "name": "ipython",
    "version": 3
   },
   "file_extension": ".py",
   "mimetype": "text/x-python",
   "name": "python",
   "nbconvert_exporter": "python",
   "pygments_lexer": "ipython3",
   "version": "3.8.12"
  }
 },
 "nbformat": 4,
 "nbformat_minor": 5
}
